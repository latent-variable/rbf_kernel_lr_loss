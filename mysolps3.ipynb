{
 "cells": [
  {
   "cell_type": "markdown",
   "metadata": {},
   "source": [
    "# Problem Set 3\n",
    "## Due Sunday May 26, 2019 @ 11:59pm\n",
    "\n",
    "In this problem set, you will use *kernel* logistic regression and cross-validation for classifying spam (much as in the previous problem set, but now with kernels).\n",
    "You may *not* use scikit-learn or similar libraries, but only the linear algebra libraries of numpy.\n",
    "To that end, the code block below is the only \"imports\" you may have.  This block also loads the data.\n",
    "\n",
    "One change is that this code also \"z-normalizes\" the data (converts each feature into its z-score).  The same transformation is applied to the testing data."
   ]
  },
  {
   "cell_type": "code",
   "execution_count": 186,
   "metadata": {},
   "outputs": [],
   "source": [
    "%matplotlib inline\n",
    "import warnings\n",
    "# plt.rcParams[\"figure.figsize\"] = (16, 9) # (w, h)\n",
    "warnings.filterwarnings('ignore')\n",
    "\n",
    "import numpy as np\n",
    "import matplotlib.pyplot as plt\n",
    "from IPython import display\n",
    "import time\n",
    "\n",
    "\n",
    "def load_data():\n",
    "    trainX = np.loadtxt('spamtrainX.data')\n",
    "    trainY = np.loadtxt('spamtrainY.data')[:,np.newaxis]\n",
    "    mux = np.mean(trainX,axis=0)\n",
    "    trainX -= mux\n",
    "    stdx = np.std(trainX,axis=0)\n",
    "    trainX /= stdx\n",
    "\n",
    "    testX = np.loadtxt('spamtestX.data')\n",
    "    testX = (testX-mux)/stdx\n",
    "    testY = np.loadtxt('spamtestY.data')[:,np.newaxis]\n",
    "    return trainX, trainY, testX, testY"
   ]
  },
  {
   "cell_type": "markdown",
   "metadata": {},
   "source": [
    "## Part a (4 points)\n",
    "\n",
    "First, we need to derive the kernel version of logistic regression.\n",
    "\n",
    "We will be optimizing\n",
    "\\begin{align*}\n",
    "L(f) &= \\sum_{i=1}^m l_{\\text{lr}}(y_i,f(x_i)) + \\frac{\\lambda}{2}\\|f\\|_{{\\cal H}_K}^2\n",
    "\\end{align*}\n",
    "where $l_{\\text{lr}}$ is the logistic regression loss from class and the last term is the norm of the function in the reproducing kernel Hilbert space with kernel $K$.\n",
    "\n",
    "From the Representer Theorem, we know that $f$ must have the following form\n",
    "\\begin{align*}\n",
    "f(x) &= \\sum_{j=1}^m \\alpha_j K(x_j,x)\n",
    "\\end{align*}\n",
    "\n",
    "Thus, our parameters are the $\\alpha$s, one for each training point.  Learning is the process of picking the parameters to minimize the total loss ($L$).  To this end, write down the loss function in terms of $\\alpha$ (the vector of all of the $\\alpha_j$ values).\n",
    "\n",
    "Note, $\\|f\\|_{{\\cal H}_K}^2 = \\alpha^\\top K\\alpha$. \n",
    "\n",
    "Let $K$ be a matrix for which $K_{ij} = K(x_i,x_j)$.  You may also wish to let $K_i$ be the $i$th column of the matrix $K$."
   ]
  },
  {
   "cell_type": "markdown",
   "metadata": {},
   "source": [
    "<font color=red>__To Do: Place your derivation of $L$ in terms of $\\alpha$ below__</font>\n",
    "\\begin{align*}\n",
    "f(x_i) &= \\alpha_i K(x_i,x)\n",
    "\\end{align*}\n",
    "\n",
    "\\begin{align*}\n",
    "l_{lr i} &=\\ln(1+e^{-y_if(x_i)})\n",
    "\\end{align*}\n",
    "\n",
    "\\begin{align*}\n",
    "L(f) &= \\sum_{i=1}^m -ln(1+e^{-y_i\\alpha_i K(x_i,x)} ) + \\frac{\\lambda}{2} \\alpha^\\top K\\alpha\n",
    "\\end{align*}\n",
    "\n"
   ]
  },
  {
   "cell_type": "markdown",
   "metadata": {},
   "source": [
    "## Part b (4 points)\n",
    "\n",
    "To optimize this loss, we will just use gradient descent. (We could use Newton-Raphson, just like \"normal\" logistic regression, but for this assignment, we will keep it simpler by not needing the Hessian.)  To that end, derive the gradient of $L$ with respect to $\\alpha$ below."
   ]
  },
  {
   "cell_type": "markdown",
   "metadata": {},
   "source": [
    "<font color=red>__To Do: Place your derivation of $\\nabla_\\alpha L$ below__</font>\n",
    "\n",
    "\n",
    "$$ p_i = \\sigma (y_if(x_i))$$\n",
    "\n",
    "$$ p_i ' = p_i(1 - p_i)$$\n",
    "\n",
    "$$Gradient$$\n",
    "\n",
    "$$ \\nabla_\\alpha L(f) = \\sum_{i=1}^m \\nabla_\\alpha \\left( -ln(pi)  \\right)+ \\nabla_\\alpha \\left(\\frac{\\lambda}{2} \\alpha^\\top K\\alpha \\right) $$\n",
    "\n",
    "$$ \\nabla_\\alpha L = - \\left[\\sum_{i=1}^m (1-p_i)y_i K(x_i,x)\\right] + \\lambda K \\alpha$$"
   ]
  },
  {
   "cell_type": "markdown",
   "metadata": {},
   "source": [
    "## Part c (2 points)\n",
    "\n",
    "Compare this update rule on $\\alpha$ to the \"normal\" logistic regression update rule for $w$.  "
   ]
  },
  {
   "cell_type": "markdown",
   "metadata": {},
   "source": [
    "<font color=red>__To Do: place your comparison below__</font>\n",
    "\n",
    "$$\\nabla L = - \\left[\\sum_{i=1}^m (1-p_i)y_i x_i^\\top\\right] + \\lambda w $$\n",
    "\n",
    "$$ \\nabla_\\alpha L = - \\left[\\sum_{i=1}^m (1-p_i)y_i K(x_i,x)\\right] + \\lambda  K \\alpha$$\n",
    "\n",
    "$$\\alpha \\leftarrow \\alpha -  \\eta \\nabla_\\alpha L$$\n",
    "$$w \\leftarrow w - \\eta \\nabla_ w L$$\n",
    "\n",
    "The main difference is that $\\alpha$ is a vector with $m$ number of elements, the same number of elements as the training data. However, $w$ is a vector with $(n+1)$ number of elements, matching the corresponding features plus a bias term."
   ]
  },
  {
   "cell_type": "markdown",
   "metadata": {},
   "source": [
    "## Part d (4 points)\n",
    "\n",
    "Below, write functions to calculate the loss function and its gradient (as you derived above).  I would recommend writing them in terms of the matrix $K$ (as opposed to the kernel function $K(\\cdot,\\cdot)$), because you don't want to reevaluate the kernel function on all of the training points each time you evaluate the loss function or its gradient."
   ]
  },
  {
   "cell_type": "code",
   "execution_count": 187,
   "metadata": {},
   "outputs": [],
   "source": [
    "### !!! Your code here !!!!   \n",
    "def fn(a,K,Y,lmbda): \n",
    "    return (np.sum(np.log(1+np.exp(-Y*(K@a))),0) + (0.5*lmbda*np.sum(a.T@K@a)).T)[0]\n",
    "    \n",
    "def gradfn(a,K,Y,lmbda):\n",
    "    return -np.sum((1-1/(1+np.exp(-Y*(K@a))))*Y*K,0)[:,np.newaxis] + lmbda*K@a\n"
   ]
  },
  {
   "cell_type": "markdown",
   "metadata": {},
   "source": [
    "## Part e (2 points)\n",
    "\n",
    "Below is an implementation of gradient descent, similar to that in PS 2, but with an adaptive step-size rule.\n",
    "\n",
    "Use this (and the functions you wrote above) to implement a function to learn the alpha weights, given a training X, a training Y, and a kernel function."
   ]
  },
  {
   "cell_type": "code",
   "execution_count": 221,
   "metadata": {},
   "outputs": [],
   "source": [
    "### !!! Your code here !!!\n",
    "#adaptive step-size\n",
    "#exp decay\n",
    "def step_size(eta_,k,t):\n",
    "    return eta_ *np.exp(-k*t)\n",
    "    \n",
    "\n",
    "# provided code for grad desc. eta is starting value. ittfn is optional function to call on each iteration\n",
    "def graddesc(w,fn,gradfn,eta = 0.1, ittfn=None):\n",
    "    eta_ = eta\n",
    "    oldf = fn(w)\n",
    "    df = 1\n",
    "    t = 0\n",
    "    k = .9\n",
    "    \n",
    "    while(df>1e-6):\n",
    "        g = gradfn(w)\n",
    "        t = 0\n",
    "        while eta>1e-10:\n",
    "            neww = w - eta*g\n",
    "            newf = fn(neww)\n",
    "            if oldf>newf*1.001:\n",
    "                break\n",
    "            eta = step_size(eta_,k,t)\n",
    "            t += 1\n",
    "#             print(eta)\n",
    "        if ittfn is not None:\n",
    "            ittfn(w,eta,newf)\n",
    "        if eta<=1e-10:\n",
    "            break\n",
    "        oldf = newf\n",
    "#         print(newf)\n",
    "        w = neww\n",
    "    return w"
   ]
  },
  {
   "cell_type": "markdown",
   "metadata": {},
   "source": [
    "### Part f (4 points)\n",
    "\n",
    "Below is the \"squared exponential\" kernel, or the \"radial basis function\" kernel.  It takes a single parameter, $\\sigma$ which is the \"width\" of the kernel.\n",
    "\n",
    "Fix $\\lambda$ at $1$ (changing $\\lambda$ does not have a great effect in this case).  Use 3-fold cross-validation to find a good value of $\\sigma$, using the training set.  This is the same as in PS 2 where you were finding the best value of $\\lambda$ using cross-validation.  You may use the cross-validation code from your previous assignment or the solutions.\n",
    "\n",
    "Plot the cross-validation error as a function of $\\sigma$ for a range of sigmas from $0.1$ to $10$ on a semi-log plot."
   ]
  },
  {
   "cell_type": "code",
   "execution_count": 222,
   "metadata": {},
   "outputs": [],
   "source": [
    "def up(x):\n",
    "    if len(x.shape)==1:\n",
    "        return x[np.newaxis,:]\n",
    "    else:\n",
    "        return x\n",
    "\n",
    "def rbfkernel(x1,x2,sigma):\n",
    "    x1 = up(x1)\n",
    "    x2 = up(x2)\n",
    "    d = x1[:,np.newaxis,:] - x2[np.newaxis,:,:]\n",
    "    return np.exp(-np.sum(d*d,2)/(2*sigma*sigma))\n",
    "\n",
    "def trainlr(X,Y,sigma):\n",
    "    K = rbfkernel(X,X,sigma)\n",
    "    a = np.zeros((X.shape[0],1)) # starting w at zero works well for LR\n",
    "    return graddesc(a,lambda w : fn(w,K,Y,lmbda=1),\n",
    "                  lambda w : gradfn(w,K,Y,lmbda=1))\n",
    "\n",
    "def lrerrorrate(X,Y,a,sigma,trainX):\n",
    "    K = rbfkernel(X,trainX,sigma)\n",
    "    return np.sum(Y*np.sign(K@a)<0)/Y.shape[0]\n"
   ]
  },
  {
   "cell_type": "code",
   "execution_count": 232,
   "metadata": {},
   "outputs": [
    {
     "data": {
      "text/plain": [
       "Text(0,0.5,'Cross validation error rate')"
      ]
     },
     "execution_count": 232,
     "metadata": {},
     "output_type": "execute_result"
    },
    {
     "data": {
      "image/png": "[encoded data removed]",
      "text/plain": [
       "<Figure size 432x288 with 1 Axes>"
      ]
     },
     "metadata": {
      "needs_background": "light"
     },
     "output_type": "display_data"
    }
   ],
   "source": [
    "## !!! Your code for cross-validation and plotting here !!!\n",
    "def xvalideval(X,Y,sigma):\n",
    "    #print('sigma: ' +str(sigma))\n",
    "    nfold = 3\n",
    "    def evalfn(X,Y,eX,eY,sigma):\n",
    "        return lrerrorrate(eX,eY,trainlr(X,Y,sigma),sigma,X)     \n",
    "    m = X.shape[0]\n",
    "    splits = np.linspace(0,m,nfold+1).astype(int)\n",
    "    v = 0\n",
    "    i = 1\n",
    "    for low,high in zip(splits[0:-1],splits[1:]):\n",
    "        #print('fold: %d' %i)\n",
    "        i+=1\n",
    "        trainX = np.vstack((X[:low,:],X[high:,:]))\n",
    "        trainY = np.vstack((Y[:low,:],Y[high:,:]))\n",
    "        validX = X[low:high,:]\n",
    "        validY = Y[low:high,:]\n",
    "        v += evalfn(trainX,trainY,validX,validY,sigma)\n",
    "    return v /nfold\n",
    "\n",
    "\n",
    "trainX, trainY, testX, testY = load_data()\n",
    "# print(rbfkernel(trainX[1],trainX[0],sigma=1))\n",
    "ls = np.logspace(-1,1,10)\n",
    "xverr = ls.copy()\n",
    "bstv = None\n",
    "bsSig = None\n",
    "for i,l in enumerate(ls):\n",
    "    xverr[i] = xvalideval(trainX,trainY,l)\n",
    "    if bstv is None or bstv>xverr[i]:\n",
    "        bstv = xverr[i]\n",
    "        bsSig = l\n",
    "plt.semilogx(ls,xverr,'g-')\n",
    "plt.xlabel(\"sigma\")\n",
    "plt.ylabel(\"Cross validation error rate\")\n",
    "\n"
   ]
  },
  {
   "cell_type": "markdown",
   "metadata": {},
   "source": [
    "### part g (4 points)\n",
    "\n",
    "Select the value of $\\sigma$ that has the best cross-validation error.  Report the testing error, when using this value of $\\sigma$ to train on the entire training set"
   ]
  },
  {
   "cell_type": "code",
   "execution_count": 233,
   "metadata": {},
   "outputs": [
    {
     "name": "stdout",
     "output_type": "stream",
     "text": [
      "sigma = 2.15443, test error = 0.0855715\n"
     ]
    }
   ],
   "source": [
    "### !!! Your code here to train and report error using best value of sigma !!!\n",
    "testerr = lrerrorrate(testX,testY,trainlr(trainX,trainY,bsSig),bsSig,trainX)\n",
    "print (\"sigma = %lg, test error = %lg\" % (bsSig,testerr))"
   ]
  },
  {
   "cell_type": "code",
   "execution_count": null,
   "metadata": {},
   "outputs": [],
   "source": []
  }
 ],
 "metadata": {
  "kernelspec": {
   "display_name": "CS 229 Python",
   "language": "python",
   "name": "cs229-cpu-limitation"
  },
  "language_info": {
   "codemirror_mode": {
    "name": "ipython",
    "version": 3
   },
   "file_extension": ".py",
   "mimetype": "text/x-python",
   "name": "python",
   "nbconvert_exporter": "python",
   "pygments_lexer": "ipython3",
   "version": "3.6.6"
  }
 },
 "nbformat": 4,
 "nbformat_minor": 2
}
